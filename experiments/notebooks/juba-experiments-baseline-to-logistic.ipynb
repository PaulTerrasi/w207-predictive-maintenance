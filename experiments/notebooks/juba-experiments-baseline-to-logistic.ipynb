{
 "cells": [
  {
   "cell_type": "code",
   "execution_count": 304,
   "metadata": {},
   "outputs": [],
   "source": [
    "import numpy as np\n",
    "import pandas as pd\n",
    "import random\n",
    "import os\n",
    "\n",
    "from pyprojroot import here\n",
    "import seaborn as sns\n",
    "from matplotlib import pyplot as plt\n",
    "from mlxtend.plotting import heatmap\n",
    "from mlxtend.plotting import plot_decision_regions\n",
    "\n",
    "import tensorflow as tf\n",
    "from tensorflow import keras\n",
    "from tensorflow.keras import initializers\n",
    "from tensorflow.keras.callbacks import ModelCheckpoint, EarlyStopping\n",
    "from tensorflow.keras import regularizers\n",
    "from tensorflow.keras.losses import BinaryFocalCrossentropy\n",
    "from tensorflow.keras.metrics import AUC, Recall, Precision,F1Score\n",
    "\n",
    "\n",
    "import keras_tuner as kt\n",
    "from keras_tuner import HyperParameters\n",
    "\n",
    "\n",
    "from sklearn import metrics\n",
    "from sklearn import model_selection\n",
    "from sklearn.model_selection import train_test_split\n",
    "from sklearn.utils import resample\n",
    "from sklearn.utils import shuffle\n",
    "from sklearn.metrics import roc_curve, auc\n",
    "from sklearn.metrics import roc_curve, auc as sk_auc\n",
    "\n",
    "import wandb\n",
    "from wandb.integration.keras import WandbCallback\n",
    "from wandb.integration.keras import WandbModelCheckpoint\n",
    "\n",
    "\n",
    "random.seed(7)"
   ]
  },
  {
   "cell_type": "code",
   "execution_count": 305,
   "metadata": {},
   "outputs": [
    {
     "name": "stdout",
     "output_type": "stream",
     "text": [
      "(7499, 6)\n",
      "(7499, 6)\n",
      "(1501, 6)\n",
      "(1501, 6)\n"
     ]
    }
   ],
   "source": [
    "X_train = pd.read_csv(here('data/processed/X_train_scaled.csv'))\n",
    "print(X_train.shape)\n",
    "y_train = pd.read_csv(here('data/processed/Y_train.csv'))\n",
    "print(y_train.shape)\n",
    "\n",
    "\n",
    "X_val = pd.read_csv(here('data/processed/X_val_scaled.csv'))\n",
    "print(X_val.shape)\n",
    "y_val = pd.read_csv(here('data/processed/Y_val.csv'))\n",
    "print(y_val.shape)"
   ]
  },
  {
   "cell_type": "code",
   "execution_count": 306,
   "metadata": {},
   "outputs": [
    {
     "name": "stdout",
     "output_type": "stream",
     "text": [
      "Machine failure\n",
      "0    1451\n",
      "1      50\n",
      "Name: count, dtype: int64\n"
     ]
    },
    {
     "data": {
      "image/png": "[encoded data removed]",
      "text/plain": [
       "<Figure size 640x480 with 1 Axes>"
      ]
     },
     "metadata": {},
     "output_type": "display_data"
    }
   ],
   "source": [
    "sns.barplot(y_val['Machine failure'].value_counts())\n",
    "print(y_val['Machine failure'].value_counts())"
   ]
  },
  {
   "cell_type": "code",
   "execution_count": 307,
   "metadata": {},
   "outputs": [
    {
     "name": "stdout",
     "output_type": "stream",
     "text": [
      "Number of positive samples for Machine failure, in training data: 245 (3.27% of total)\n",
      "Number of positive samples for TWF, in training data: 36 (0.48% of total)\n",
      "Number of positive samples for HDF, in training data: 87 (1.16% of total)\n",
      "Number of positive samples for PWF, in training data: 74 (0.99% of total)\n",
      "Number of positive samples for OSF, in training data: 66 (0.88% of total)\n",
      "Number of positive samples for RNF, in training data: 14 (0.19% of total)\n",
      "      Failure_mode  Failure_count  Class_representation\n",
      "0  Machine failure            245              3.267102\n",
      "1              TWF             36              0.480064\n",
      "2              HDF             87              1.160155\n",
      "3              PWF             74              0.986798\n",
      "4              OSF             66              0.880117\n",
      "5              RNF             14              0.186692\n"
     ]
    }
   ],
   "source": [
    "\n",
    "def target_class_imbalance(target):\n",
    "    failure_representation = {}\n",
    "\n",
    "    for mode, s in target.items():  # iterate columns as Series\n",
    "        pos = int(s.sum())             # assumes 0/1 labels\n",
    "        total = len(s)\n",
    "        pct = 100.0 * pos / total\n",
    "        print(f\"Number of positive samples for {mode}, in training data: {pos} ({pct:.2f}% of total)\")\n",
    "        failure_representation[mode] = (pos, pct)\n",
    "    return failure_representation\n",
    "\n",
    "dict_of_percentages = target_class_imbalance(y_train)\n",
    "\n",
    "df = (\n",
    "    pd.DataFrame.from_dict(\n",
    "        dict_of_percentages,\n",
    "        orient=\"index\",\n",
    "        columns=[\"Failure_count\", \"Class_representation\"]\n",
    "    )\n",
    "    .rename_axis(\"Failure_mode\")\n",
    "    .reset_index()\n",
    ")\n",
    "\n",
    "out_path = here(\"reports_by_milestone/week_07/class_imbalance_data.csv\")\n",
    "df.to_csv(out_path, index=False)\n",
    "\n",
    "print(df)\n"
   ]
  },
  {
   "cell_type": "code",
   "execution_count": 308,
   "metadata": {},
   "outputs": [],
   "source": [
    "#Setting interested failure mode\n",
    "y_train_machine_failure = y_train['Machine failure']\n",
    "y_val_machine_failure = y_val['Machine failure']"
   ]
  },
  {
   "cell_type": "code",
   "execution_count": 309,
   "metadata": {},
   "outputs": [],
   "source": [
    "\n",
    "# Split the training data by class and defining failure binary class\n",
    "X_majority = X_train[y_train_machine_failure == 0]\n",
    "X_minority = X_train[y_train_machine_failure == 1]\n",
    "\n",
    "# Downsample majority class to match the size of the minority class\n",
    "X_majority_downsampled, y_majority_downsampled = resample(X_majority, \n",
    "                                                           y_train_machine_failure[y_train_machine_failure == 0],\n",
    "                                                           replace=False,  # no replacement\n",
    "                                                           n_samples=len(X_minority),  # downsample to the minority count\n",
    "                                                           random_state=7)\n",
    "\n",
    "# Combine the downsampled majority class with the minority class\n",
    "X_train_balanced = np.vstack((X_majority_downsampled, X_minority))\n",
    "y_train_balanced = np.hstack((y_majority_downsampled, y_train_machine_failure[y_train_machine_failure == 1]))\n",
    "\n",
    "# Shuffle the balanced training set\n",
    "\n",
    "X_train_balanced, y_train_balanced = shuffle(X_train_balanced, y_train_balanced, random_state=7)\n"
   ]
  },
  {
   "cell_type": "code",
   "execution_count": 310,
   "metadata": {},
   "outputs": [
    {
     "data": {
      "text/html": [
       "<pre style=\"white-space:pre;overflow-x:auto;line-height:normal;font-family:Menlo,'DejaVu Sans Mono',consolas,'Courier New',monospace\"><span style=\"font-weight: bold\">Model: \"sequential\"</span>\n",
       "</pre>\n"
      ],
      "text/plain": [
       "\u001b[1mModel: \"sequential\"\u001b[0m\n"
      ]
     },
     "metadata": {},
     "output_type": "display_data"
    },
    {
     "data": {
      "text/html": [
       "<pre style=\"white-space:pre;overflow-x:auto;line-height:normal;font-family:Menlo,'DejaVu Sans Mono',consolas,'Courier New',monospace\">┏━━━━━━━━━━━━━━━━━━━━━━━━━━━━━━━━━┳━━━━━━━━━━━━━━━━━━━━━━━━┳━━━━━━━━━━━━━━━┓\n",
       "┃<span style=\"font-weight: bold\"> Layer (type)                    </span>┃<span style=\"font-weight: bold\"> Output Shape           </span>┃<span style=\"font-weight: bold\">       Param # </span>┃\n",
       "┡━━━━━━━━━━━━━━━━━━━━━━━━━━━━━━━━━╇━━━━━━━━━━━━━━━━━━━━━━━━╇━━━━━━━━━━━━━━━┩\n",
       "│ Output (<span style=\"color: #0087ff; text-decoration-color: #0087ff\">Dense</span>)                  │ (<span style=\"color: #00d7ff; text-decoration-color: #00d7ff\">None</span>, <span style=\"color: #00af00; text-decoration-color: #00af00\">1</span>)              │             <span style=\"color: #00af00; text-decoration-color: #00af00\">7</span> │\n",
       "└─────────────────────────────────┴────────────────────────┴───────────────┘\n",
       "</pre>\n"
      ],
      "text/plain": [
       "┏━━━━━━━━━━━━━━━━━━━━━━━━━━━━━━━━━┳━━━━━━━━━━━━━━━━━━━━━━━━┳━━━━━━━━━━━━━━━┓\n",
       "┃\u001b[1m \u001b[0m\u001b[1mLayer (type)                   \u001b[0m\u001b[1m \u001b[0m┃\u001b[1m \u001b[0m\u001b[1mOutput Shape          \u001b[0m\u001b[1m \u001b[0m┃\u001b[1m \u001b[0m\u001b[1m      Param #\u001b[0m\u001b[1m \u001b[0m┃\n",
       "┡━━━━━━━━━━━━━━━━━━━━━━━━━━━━━━━━━╇━━━━━━━━━━━━━━━━━━━━━━━━╇━━━━━━━━━━━━━━━┩\n",
       "│ Output (\u001b[38;5;33mDense\u001b[0m)                  │ (\u001b[38;5;45mNone\u001b[0m, \u001b[38;5;34m1\u001b[0m)              │             \u001b[38;5;34m7\u001b[0m │\n",
       "└─────────────────────────────────┴────────────────────────┴───────────────┘\n"
      ]
     },
     "metadata": {},
     "output_type": "display_data"
    },
    {
     "data": {
      "text/html": [
       "<pre style=\"white-space:pre;overflow-x:auto;line-height:normal;font-family:Menlo,'DejaVu Sans Mono',consolas,'Courier New',monospace\"><span style=\"font-weight: bold\"> Total params: </span><span style=\"color: #00af00; text-decoration-color: #00af00\">7</span> (28.00 B)\n",
       "</pre>\n"
      ],
      "text/plain": [
       "\u001b[1m Total params: \u001b[0m\u001b[38;5;34m7\u001b[0m (28.00 B)\n"
      ]
     },
     "metadata": {},
     "output_type": "display_data"
    },
    {
     "data": {
      "text/html": [
       "<pre style=\"white-space:pre;overflow-x:auto;line-height:normal;font-family:Menlo,'DejaVu Sans Mono',consolas,'Courier New',monospace\"><span style=\"font-weight: bold\"> Trainable params: </span><span style=\"color: #00af00; text-decoration-color: #00af00\">7</span> (28.00 B)\n",
       "</pre>\n"
      ],
      "text/plain": [
       "\u001b[1m Trainable params: \u001b[0m\u001b[38;5;34m7\u001b[0m (28.00 B)\n"
      ]
     },
     "metadata": {},
     "output_type": "display_data"
    },
    {
     "data": {
      "text/html": [
       "<pre style=\"white-space:pre;overflow-x:auto;line-height:normal;font-family:Menlo,'DejaVu Sans Mono',consolas,'Courier New',monospace\"><span style=\"font-weight: bold\"> Non-trainable params: </span><span style=\"color: #00af00; text-decoration-color: #00af00\">0</span> (0.00 B)\n",
       "</pre>\n"
      ],
      "text/plain": [
       "\u001b[1m Non-trainable params: \u001b[0m\u001b[38;5;34m0\u001b[0m (0.00 B)\n"
      ]
     },
     "metadata": {},
     "output_type": "display_data"
    }
   ],
   "source": [
    "def build_model(num_features,l2_lambda=.0001):\n",
    "    \"\"\"Return a simple logistic regression model using the Keras Sequential API.\"\"\"\n",
    "  # Clear session and set a random seed for consistent behavior.\n",
    "    tf.keras.backend.clear_session()\n",
    "    tf.random.set_seed(7)\n",
    "    \n",
    "\n",
    "  # Use Keras Sequential API to build a logistic regression\n",
    "    model = keras.Sequential()\n",
    "    \n",
    "    # create input layer\n",
    "    model.add(tf.keras.Input(shape=(num_features,),\n",
    "         name='Input'\n",
    "    ))\n",
    "   \n",
    "    \n",
    "    model.add(keras.layers.Dense(\n",
    "        units=1,  \n",
    "        use_bias=True,\n",
    "        activation='sigmoid',\n",
    "        kernel_initializer=initializers.RandomNormal(stddev=0.01),\n",
    "        bias_initializer=initializers.RandomNormal(stddev=0.01),\n",
    "        name=\"Output\",\n",
    "        kernel_regularizer=regularizers.l2(l2_lambda)\n",
    "    ))\n",
    "  \n",
    "  # Use Binary Crossentropy as our loss and the SGD optimizer.\n",
    "    #model.compile(\n",
    "   #     loss= tf.keras.losses.BinaryCrossentropy(),\n",
    "    #    optimizer= tf.keras.optimizers.SGD(learning_rate=0.01),\n",
    "     #   metrics= [tf.keras.metrics.BinaryAccuracy()]\n",
    "    #)\n",
    "    return model\n",
    "\n",
    "# Build a model\n",
    "model = build_model(num_features=X_train.shape[1])\n",
    "\n",
    "\n",
    "model.summary()"
   ]
  },
  {
   "cell_type": "code",
   "execution_count": 311,
   "metadata": {},
   "outputs": [
    {
     "data": {
      "text/plain": [
       "((7499, 6), (7499,))"
      ]
     },
     "execution_count": 311,
     "metadata": {},
     "output_type": "execute_result"
    }
   ],
   "source": [
    "X_train.shape, y_train_machine_failure.shape"
   ]
  },
  {
   "cell_type": "code",
   "execution_count": 312,
   "metadata": {},
   "outputs": [],
   "source": [
    "class WBLogger(tf.keras.callbacks.Callback):\n",
    "    def on_epoch_end(self, epoch, logs=None):\n",
    "        logs = logs or {}\n",
    "        payload = {\"epoch\": int(epoch)}\n",
    "        for k, v in logs.items():\n",
    "            if v is not None:\n",
    "                try:\n",
    "                    payload[f\"epoch/{k}\"] = float(v)\n",
    "                except Exception:\n",
    "                    \n",
    "                    try:\n",
    "                        payload[f\"epoch/{k}\"] = float(np.array(v).ravel()[-1])\n",
    "                    except Exception:\n",
    "                        pass\n",
    "        wandb.log(payload)\n"
   ]
  },
  {
   "cell_type": "code",
   "execution_count": 313,
   "metadata": {},
   "outputs": [],
   "source": [
    "class build_model_tuner(kt.HyperModel):\n",
    "    def build(self, hp):\n",
    "        # Regularization to tune\n",
    "        l2_lambda = hp.Float(\"l2_lambda\", 1e-6, 1e-2, sampling=\"log\")\n",
    "\n",
    "        \n",
    "        model = build_model(num_features=X_train.shape[1], l2_lambda=l2_lambda)\n",
    "\n",
    "        # Optimizer tune\n",
    "        opt_name = hp.Choice(\"optimizer\", [\"sgd\", \"adam\", \"adamw\", \"rmsprop\", \"nadam\"])\n",
    "        lr = hp.Choice(\"learning_rate\", [0.01, 0.001, 0.0001, 0.0002, 0.025])\n",
    "\n",
    "        if opt_name == \"sgd\":\n",
    "            momentum = hp.Choice(\"momentum\", [0.0, 0.9])\n",
    "            optimizer = tf.keras.optimizers.SGD(learning_rate=lr, momentum=momentum)\n",
    "        elif opt_name == \"adam\":\n",
    "            optimizer = tf.keras.optimizers.Adam(learning_rate=lr)\n",
    "        elif opt_name == \"adamw\":\n",
    "            wd = hp.Float(\"weight_decay\", 1e-6, 1e-2, sampling=\"log\")\n",
    "            optimizer = tf.keras.optimizers.AdamW(learning_rate=lr, weight_decay=wd)\n",
    "        elif opt_name == \"rmsprop\":\n",
    "            rho = hp.Choice(\"rho\", [0.9, 0.95, 0.99])\n",
    "            optimizer = tf.keras.optimizers.RMSprop(learning_rate=lr, rho=rho)\n",
    "        else:\n",
    "            optimizer = tf.keras.optimizers.Nadam(learning_rate=lr)\n",
    "\n",
    "        #Attempting to penalize minority errors\n",
    "        focal_alpha = hp.Float(\"focal_alpha\", 0.50, 0.95, step=0.05)\n",
    "        focal_gamma = hp.Choice(\"focal_gamma\", [1.0, 1.5, 2.0, 2.5])\n",
    "\n",
    "        model.compile(\n",
    "            optimizer=optimizer,\n",
    "            loss=BinaryFocalCrossentropy(alpha=focal_alpha, gamma=focal_gamma, from_logits=False),\n",
    "            metrics=[\n",
    "                AUC(curve=\"PR\",  name=\"pr_auc\"),\n",
    "                Recall(name=\"recall_pos\", thresholds=0.60),\n",
    "                Precision(name=\"precision_pos\", thresholds=0.60),\n",
    "                AUC(curve=\"ROC\", name=\"auc\"),\n",
    "                F1Score(name=\"f1_score\", threshold=0.50), \n",
    "            ],\n",
    "        )\n",
    "        return model\n",
    "\n",
    "    def fit(self, hp, model, x, y, **kwargs):\n",
    "        run = wandb.init(\n",
    "            project=\"predictive-maintenance\",\n",
    "            name=f\"60-thresh-tune-regularization-opt-decay-lr-{wandb.util.generate_id()}\",\n",
    "            config=hp.values,\n",
    "            reinit=True,\n",
    "        )\n",
    "        try:\n",
    "            epochs = hp.Choice(\"epochs\", [200, 300, 350, 400, 500])\n",
    "\n",
    "            os.makedirs(\"models\", exist_ok=True)\n",
    "            ckpt_path = os.path.join(\"models\", f\"{run.id}-best.keras\")\n",
    "\n",
    "            cb = list(kwargs.pop(\"callbacks\", []))\n",
    "            cb += [\n",
    "                ModelCheckpoint(\n",
    "                    ckpt_path,\n",
    "                    monitor=\"val_loss\", mode=\"min\",\n",
    "                    save_best_only=True, save_weights_only=False,\n",
    "                ),\n",
    "                EarlyStopping(\n",
    "                    monitor=\"val_loss\", mode=\"min\",\n",
    "                    patience=20, restore_best_weights=True,\n",
    "                ),\n",
    "                WBLogger(),  \n",
    "            ]\n",
    "\n",
    "            history = model.fit(\n",
    "                x, y,\n",
    "                epochs=epochs,\n",
    "                validation_data=(X_val, y_val_machine_failure),\n",
    "                callbacks=cb,\n",
    "                **kwargs\n",
    "            )\n",
    "\n",
    "          \n",
    "            val_f1 = history.history.get(\"val_f1_score\", [None])[-1]\n",
    "            if val_f1 is not None:\n",
    "                try:\n",
    "                    val_f1 = float(val_f1)\n",
    "                except Exception:\n",
    "                    val_f1 = float(np.array(val_f1).ravel()[-1])\n",
    "\n",
    "            \n",
    "            y_prob = model.predict(X_val, verbose=0).ravel()\n",
    "            fpr, tpr, _ = roc_curve(y_val_machine_failure, y_prob)\n",
    "            roc_auc = sk_auc(fpr, tpr)\n",
    "\n",
    "            wandb.summary[\"val/auc_roc\"] = float(roc_auc)\n",
    "            if val_f1 is not None:\n",
    "                wandb.summary[\"val/f1\"] = val_f1\n",
    "\n",
    "            # Log best SavedModel as a W&B model artifact\n",
    "            meta = {\n",
    "                \"val_auc\": float(roc_auc),\n",
    "                \"val_f1\": val_f1,\n",
    "                \"l2_lambda\": float(hp.get(\"l2_lambda\")),\n",
    "                \"optimizer\": hp.get(\"optimizer\"),\n",
    "                \"learning_rate\": float(hp.get(\"learning_rate\")),\n",
    "                \"focal_alpha\": float(hp.get(\"focal_alpha\")),\n",
    "                \"focal_gamma\": float(hp.get(\"focal_gamma\")),\n",
    "                \"framework\": \"tf.keras\",\n",
    "                \"format\": \"keras_v3\",\n",
    "            }\n",
    "            art = wandb.Artifact(\"machine-failure-60-threshold\", type=\"model\", metadata=meta)\n",
    "            art.add_file(ckpt_path)\n",
    "            run.log_artifact(art, aliases=[\"latest\", \"trial-best\"])\n",
    "\n",
    "            return history\n",
    "        finally:\n",
    "            wandb.finish()"
   ]
  },
  {
   "cell_type": "code",
   "execution_count": 314,
   "metadata": {},
   "outputs": [
    {
     "name": "stdout",
     "output_type": "stream",
     "text": [
      "Trial 50 Complete [00h 00m 14s]\n",
      "val_loss: 0.030837280675768852\n",
      "\n",
      "Best val_loss So Far: 0.019188273698091507\n",
      "Total elapsed time: 00h 29m 12s\n"
     ]
    }
   ],
   "source": [
    "tuner = kt.BayesianOptimization(\n",
    "    build_model_tuner(),\n",
    "    objective=kt.Objective(\"val_loss\", \"min\"),\n",
    "    max_trials=50,\n",
    "    num_initial_points=20,\n",
    "    seed=7,\n",
    "    directory=\".\",\n",
    "    project_name=\"predictive-maintenance\",\n",
    ")\n",
    "\n",
    "tuner.search(X_train, y_train_machine_failure)\n",
    "\n"
   ]
  }
 ],
 "metadata": {
  "kernelspec": {
   "display_name": "Python 3.12 (207-pm)",
   "language": "python",
   "name": "207-pm"
  },
  "language_info": {
   "codemirror_mode": {
    "name": "ipython",
    "version": 3
   },
   "file_extension": ".py",
   "mimetype": "text/x-python",
   "name": "python",
   "nbconvert_exporter": "python",
   "pygments_lexer": "ipython3",
   "version": "3.12.2"
  }
 },
 "nbformat": 4,
 "nbformat_minor": 2
}
