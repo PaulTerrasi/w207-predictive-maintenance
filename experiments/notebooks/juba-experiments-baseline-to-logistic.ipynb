{
 "cells": [
  {
   "cell_type": "code",
   "execution_count": 188,
   "metadata": {},
   "outputs": [],
   "source": [
    "import numpy as np\n",
    "import pandas as pd\n",
    "import random\n",
    "\n",
    "from pyprojroot import here\n",
    "import seaborn as sns\n",
    "from matplotlib import pyplot as plt\n",
    "from mlxtend.plotting import heatmap\n",
    "from mlxtend.plotting import plot_decision_regions\n",
    "\n",
    "import tensorflow as tf\n",
    "from tensorflow import keras\n",
    "from tensorflow.keras import initializers\n",
    "\n",
    "\n",
    "import keras_tuner as kt\n",
    "from keras_tuner import HyperParameters\n",
    "\n",
    "\n",
    "from sklearn import metrics\n",
    "from sklearn import model_selection\n",
    "from sklearn.model_selection import train_test_split\n",
    "from sklearn.utils import resample\n",
    "from sklearn.utils import shuffle\n",
    "\n",
    "import wandb\n",
    "from wandb.integration.keras import WandbMetricsLogger\n",
    "from wandb.integration.keras import WandbModelCheckpoint\n",
    "\n",
    "\n",
    "random.seed(7)"
   ]
  },
  {
   "cell_type": "code",
   "execution_count": 165,
   "metadata": {},
   "outputs": [
    {
     "name": "stdout",
     "output_type": "stream",
     "text": [
      "(7499, 6)\n",
      "(7499, 6)\n",
      "(1501, 6)\n",
      "(1501, 6)\n"
     ]
    }
   ],
   "source": [
    "X_train = pd.read_csv(here('data/processed/X_train_scaled.csv'))\n",
    "print(X_train.shape)\n",
    "y_train = pd.read_csv(here('data/processed/Y_train.csv'))\n",
    "print(y_train.shape)\n",
    "\n",
    "\n",
    "X_val = pd.read_csv(here('data/processed/X_val_scaled.csv'))\n",
    "print(X_val.shape)\n",
    "y_val = pd.read_csv(here('data/processed/Y_val.csv'))\n",
    "print(y_val.shape)"
   ]
  },
  {
   "cell_type": "code",
   "execution_count": 166,
   "metadata": {},
   "outputs": [
    {
     "name": "stdout",
     "output_type": "stream",
     "text": [
      "Machine failure\n",
      "0    1451\n",
      "1      50\n",
      "Name: count, dtype: int64\n"
     ]
    },
    {
     "data": {
      "image/png": "[encoded data removed]",
      "text/plain": [
       "<Figure size 640x480 with 1 Axes>"
      ]
     },
     "metadata": {},
     "output_type": "display_data"
    }
   ],
   "source": [
    "sns.barplot(y_val['Machine failure'].value_counts())\n",
    "print(y_val['Machine failure'].value_counts())"
   ]
  },
  {
   "cell_type": "code",
   "execution_count": 167,
   "metadata": {},
   "outputs": [],
   "source": [
    "#Setting interested failure mode\n",
    "y_train_machine_failure = y_train['Machine failure']\n",
    "y_val_machine_failure = y_val['Machine failure']"
   ]
  },
  {
   "cell_type": "code",
   "execution_count": 189,
   "metadata": {},
   "outputs": [],
   "source": [
    "\n",
    "# Split the training data by class\n",
    "X_majority = X_train[y_train_machine_failure == 0]\n",
    "X_minority = X_train[y_train_machine_failure == 1]\n",
    "\n",
    "# Downsample majority class to match the size of the minority class\n",
    "X_majority_downsampled, y_majority_downsampled = resample(X_majority, \n",
    "                                                           y_train_machine_failure[y_train_machine_failure == 0],\n",
    "                                                           replace=False,  # no replacement\n",
    "                                                           n_samples=len(X_minority),  # downsample to the minority count\n",
    "                                                           random_state=7)\n",
    "\n",
    "# Combine the downsampled majority class with the minority class\n",
    "X_train_balanced = np.vstack((X_majority_downsampled, X_minority))\n",
    "y_train_balanced = np.hstack((y_majority_downsampled, y_train_machine_failure[y_train_machine_failure == 1]))\n",
    "\n",
    "# Shuffle the balanced training set\n",
    "\n",
    "X_train_balanced, y_train_balanced = shuffle(X_train_balanced, y_train_balanced, random_state=7)\n"
   ]
  },
  {
   "cell_type": "code",
   "execution_count": 190,
   "metadata": {},
   "outputs": [
    {
     "data": {
      "text/html": [
       "<pre style=\"white-space:pre;overflow-x:auto;line-height:normal;font-family:Menlo,'DejaVu Sans Mono',consolas,'Courier New',monospace\"><span style=\"font-weight: bold\">Model: \"sequential\"</span>\n",
       "</pre>\n"
      ],
      "text/plain": [
       "\u001b[1mModel: \"sequential\"\u001b[0m\n"
      ]
     },
     "metadata": {},
     "output_type": "display_data"
    },
    {
     "data": {
      "text/html": [
       "<pre style=\"white-space:pre;overflow-x:auto;line-height:normal;font-family:Menlo,'DejaVu Sans Mono',consolas,'Courier New',monospace\">┏━━━━━━━━━━━━━━━━━━━━━━━━━━━━━━━━━┳━━━━━━━━━━━━━━━━━━━━━━━━┳━━━━━━━━━━━━━━━┓\n",
       "┃<span style=\"font-weight: bold\"> Layer (type)                    </span>┃<span style=\"font-weight: bold\"> Output Shape           </span>┃<span style=\"font-weight: bold\">       Param # </span>┃\n",
       "┡━━━━━━━━━━━━━━━━━━━━━━━━━━━━━━━━━╇━━━━━━━━━━━━━━━━━━━━━━━━╇━━━━━━━━━━━━━━━┩\n",
       "│ Output (<span style=\"color: #0087ff; text-decoration-color: #0087ff\">Dense</span>)                  │ (<span style=\"color: #00d7ff; text-decoration-color: #00d7ff\">None</span>, <span style=\"color: #00af00; text-decoration-color: #00af00\">1</span>)              │             <span style=\"color: #00af00; text-decoration-color: #00af00\">7</span> │\n",
       "└─────────────────────────────────┴────────────────────────┴───────────────┘\n",
       "</pre>\n"
      ],
      "text/plain": [
       "┏━━━━━━━━━━━━━━━━━━━━━━━━━━━━━━━━━┳━━━━━━━━━━━━━━━━━━━━━━━━┳━━━━━━━━━━━━━━━┓\n",
       "┃\u001b[1m \u001b[0m\u001b[1mLayer (type)                   \u001b[0m\u001b[1m \u001b[0m┃\u001b[1m \u001b[0m\u001b[1mOutput Shape          \u001b[0m\u001b[1m \u001b[0m┃\u001b[1m \u001b[0m\u001b[1m      Param #\u001b[0m\u001b[1m \u001b[0m┃\n",
       "┡━━━━━━━━━━━━━━━━━━━━━━━━━━━━━━━━━╇━━━━━━━━━━━━━━━━━━━━━━━━╇━━━━━━━━━━━━━━━┩\n",
       "│ Output (\u001b[38;5;33mDense\u001b[0m)                  │ (\u001b[38;5;45mNone\u001b[0m, \u001b[38;5;34m1\u001b[0m)              │             \u001b[38;5;34m7\u001b[0m │\n",
       "└─────────────────────────────────┴────────────────────────┴───────────────┘\n"
      ]
     },
     "metadata": {},
     "output_type": "display_data"
    },
    {
     "data": {
      "text/html": [
       "<pre style=\"white-space:pre;overflow-x:auto;line-height:normal;font-family:Menlo,'DejaVu Sans Mono',consolas,'Courier New',monospace\"><span style=\"font-weight: bold\"> Total params: </span><span style=\"color: #00af00; text-decoration-color: #00af00\">7</span> (28.00 B)\n",
       "</pre>\n"
      ],
      "text/plain": [
       "\u001b[1m Total params: \u001b[0m\u001b[38;5;34m7\u001b[0m (28.00 B)\n"
      ]
     },
     "metadata": {},
     "output_type": "display_data"
    },
    {
     "data": {
      "text/html": [
       "<pre style=\"white-space:pre;overflow-x:auto;line-height:normal;font-family:Menlo,'DejaVu Sans Mono',consolas,'Courier New',monospace\"><span style=\"font-weight: bold\"> Trainable params: </span><span style=\"color: #00af00; text-decoration-color: #00af00\">7</span> (28.00 B)\n",
       "</pre>\n"
      ],
      "text/plain": [
       "\u001b[1m Trainable params: \u001b[0m\u001b[38;5;34m7\u001b[0m (28.00 B)\n"
      ]
     },
     "metadata": {},
     "output_type": "display_data"
    },
    {
     "data": {
      "text/html": [
       "<pre style=\"white-space:pre;overflow-x:auto;line-height:normal;font-family:Menlo,'DejaVu Sans Mono',consolas,'Courier New',monospace\"><span style=\"font-weight: bold\"> Non-trainable params: </span><span style=\"color: #00af00; text-decoration-color: #00af00\">0</span> (0.00 B)\n",
       "</pre>\n"
      ],
      "text/plain": [
       "\u001b[1m Non-trainable params: \u001b[0m\u001b[38;5;34m0\u001b[0m (0.00 B)\n"
      ]
     },
     "metadata": {},
     "output_type": "display_data"
    }
   ],
   "source": [
    "def build_model(num_features):\n",
    "    \"\"\"Return a simple logistic regression model using the Keras Sequential API.\"\"\"\n",
    "  # Clear session and set a random seed for consistent behavior.\n",
    "    tf.keras.backend.clear_session()\n",
    "    tf.random.set_seed(7)\n",
    "    \n",
    "\n",
    "  # Use Keras Sequential API to build a logistic regression\n",
    "    model = keras.Sequential()\n",
    "    \n",
    "    # create input layer\n",
    "    model.add(tf.keras.Input(shape=(num_features,),\n",
    "         name='Input'\n",
    "    ))\n",
    "   \n",
    "    \n",
    "    model.add(keras.layers.Dense(\n",
    "        units=1,  \n",
    "        use_bias=True,\n",
    "        activation='sigmoid',\n",
    "        #kernel_initializer='random_normal',\n",
    "        #bias_initializer='zeros',\n",
    "        kernel_initializer=initializers.RandomNormal(stddev=0.01),\n",
    "        bias_initializer=initializers.RandomNormal(stddev=0.01),\n",
    "        name=\"Output\"\n",
    "    ))\n",
    "  \n",
    "  # Use Binary Crossentropy as our loss and the SGD optimizer.\n",
    "    model.compile(\n",
    "        loss= tf.keras.losses.BinaryCrossentropy(),\n",
    "        optimizer= tf.keras.optimizers.SGD(learning_rate=0.01),\n",
    "        metrics= [tf.keras.metrics.BinaryAccuracy()]\n",
    "    )\n",
    "    return model\n",
    "\n",
    "# Build a model\n",
    "model = build_model(num_features=X_train.shape[1])\n",
    "\n",
    "\n",
    "model.summary()"
   ]
  },
  {
   "cell_type": "code",
   "execution_count": 169,
   "metadata": {},
   "outputs": [
    {
     "data": {
      "text/plain": [
       "((7499, 6), (7499,))"
      ]
     },
     "execution_count": 169,
     "metadata": {},
     "output_type": "execute_result"
    }
   ],
   "source": [
    "X_train.shape, y_train_machine_failure.shape"
   ]
  },
  {
   "cell_type": "code",
   "execution_count": 170,
   "metadata": {},
   "outputs": [
    {
     "name": "stdout",
     "output_type": "stream",
     "text": [
      "Epoch 1/20\n"
     ]
    },
    {
     "name": "stdout",
     "output_type": "stream",
     "text": [
      "\u001b[1m1/1\u001b[0m \u001b[32m━━━━━━━━━━━━━━━━━━━━\u001b[0m\u001b[37m\u001b[0m \u001b[1m0s\u001b[0m 193ms/step - binary_accuracy: 0.0327 - loss: 8.3458 - val_binary_accuracy: 0.9667 - val_loss: 106.5486\n",
      "Epoch 2/20\n",
      "\u001b[1m1/1\u001b[0m \u001b[32m━━━━━━━━━━━━━━━━━━━━\u001b[0m\u001b[37m\u001b[0m \u001b[1m0s\u001b[0m 29ms/step - binary_accuracy: 0.9673 - loss: 104.5057 - val_binary_accuracy: 0.9667 - val_loss: 102.9390\n",
      "Epoch 3/20\n",
      "\u001b[1m1/1\u001b[0m \u001b[32m━━━━━━━━━━━━━━━━━━━━\u001b[0m\u001b[37m\u001b[0m \u001b[1m0s\u001b[0m 29ms/step - binary_accuracy: 0.9673 - loss: 100.9653 - val_binary_accuracy: 0.9667 - val_loss: 99.3294\n",
      "Epoch 4/20\n",
      "\u001b[1m1/1\u001b[0m \u001b[32m━━━━━━━━━━━━━━━━━━━━\u001b[0m\u001b[37m\u001b[0m \u001b[1m0s\u001b[0m 27ms/step - binary_accuracy: 0.9673 - loss: 97.4249 - val_binary_accuracy: 0.9667 - val_loss: 95.7198\n",
      "Epoch 5/20\n",
      "\u001b[1m1/1\u001b[0m \u001b[32m━━━━━━━━━━━━━━━━━━━━\u001b[0m\u001b[37m\u001b[0m \u001b[1m0s\u001b[0m 27ms/step - binary_accuracy: 0.9673 - loss: 93.8845 - val_binary_accuracy: 0.9667 - val_loss: 92.1102\n",
      "Epoch 6/20\n",
      "\u001b[1m1/1\u001b[0m \u001b[32m━━━━━━━━━━━━━━━━━━━━\u001b[0m\u001b[37m\u001b[0m \u001b[1m0s\u001b[0m 26ms/step - binary_accuracy: 0.9673 - loss: 90.3441 - val_binary_accuracy: 0.9667 - val_loss: 88.5006\n",
      "Epoch 7/20\n",
      "\u001b[1m1/1\u001b[0m \u001b[32m━━━━━━━━━━━━━━━━━━━━\u001b[0m\u001b[37m\u001b[0m \u001b[1m0s\u001b[0m 28ms/step - binary_accuracy: 0.9673 - loss: 86.8037 - val_binary_accuracy: 0.9667 - val_loss: 84.8909\n",
      "Epoch 8/20\n",
      "\u001b[1m1/1\u001b[0m \u001b[32m━━━━━━━━━━━━━━━━━━━━\u001b[0m\u001b[37m\u001b[0m \u001b[1m0s\u001b[0m 28ms/step - binary_accuracy: 0.9673 - loss: 83.2633 - val_binary_accuracy: 0.9667 - val_loss: 81.2813\n",
      "Epoch 9/20\n",
      "\u001b[1m1/1\u001b[0m \u001b[32m━━━━━━━━━━━━━━━━━━━━\u001b[0m\u001b[37m\u001b[0m \u001b[1m0s\u001b[0m 27ms/step - binary_accuracy: 0.9673 - loss: 79.7229 - val_binary_accuracy: 0.9667 - val_loss: 77.6717\n",
      "Epoch 10/20\n",
      "\u001b[1m1/1\u001b[0m \u001b[32m━━━━━━━━━━━━━━━━━━━━\u001b[0m\u001b[37m\u001b[0m \u001b[1m0s\u001b[0m 27ms/step - binary_accuracy: 0.9673 - loss: 76.1825 - val_binary_accuracy: 0.9667 - val_loss: 74.0621\n",
      "Epoch 11/20\n",
      "\u001b[1m1/1\u001b[0m \u001b[32m━━━━━━━━━━━━━━━━━━━━\u001b[0m\u001b[37m\u001b[0m \u001b[1m0s\u001b[0m 31ms/step - binary_accuracy: 0.9673 - loss: 72.6421 - val_binary_accuracy: 0.9667 - val_loss: 70.4525\n",
      "Epoch 12/20\n",
      "\u001b[1m1/1\u001b[0m \u001b[32m━━━━━━━━━━━━━━━━━━━━\u001b[0m\u001b[37m\u001b[0m \u001b[1m0s\u001b[0m 28ms/step - binary_accuracy: 0.9673 - loss: 69.1018 - val_binary_accuracy: 0.9667 - val_loss: 66.8429\n",
      "Epoch 13/20\n",
      "\u001b[1m1/1\u001b[0m \u001b[32m━━━━━━━━━━━━━━━━━━━━\u001b[0m\u001b[37m\u001b[0m \u001b[1m0s\u001b[0m 28ms/step - binary_accuracy: 0.9673 - loss: 65.5614 - val_binary_accuracy: 0.9667 - val_loss: 63.2333\n",
      "Epoch 14/20\n",
      "\u001b[1m1/1\u001b[0m \u001b[32m━━━━━━━━━━━━━━━━━━━━\u001b[0m\u001b[37m\u001b[0m \u001b[1m0s\u001b[0m 26ms/step - binary_accuracy: 0.9673 - loss: 62.0210 - val_binary_accuracy: 0.9667 - val_loss: 59.6237\n",
      "Epoch 15/20\n",
      "\u001b[1m1/1\u001b[0m \u001b[32m━━━━━━━━━━━━━━━━━━━━\u001b[0m\u001b[37m\u001b[0m \u001b[1m0s\u001b[0m 27ms/step - binary_accuracy: 0.9673 - loss: 58.4806 - val_binary_accuracy: 0.9667 - val_loss: 56.0141\n",
      "Epoch 16/20\n",
      "\u001b[1m1/1\u001b[0m \u001b[32m━━━━━━━━━━━━━━━━━━━━\u001b[0m\u001b[37m\u001b[0m \u001b[1m0s\u001b[0m 27ms/step - binary_accuracy: 0.9673 - loss: 54.9402 - val_binary_accuracy: 0.9667 - val_loss: 52.4045\n",
      "Epoch 17/20\n",
      "\u001b[1m1/1\u001b[0m \u001b[32m━━━━━━━━━━━━━━━━━━━━\u001b[0m\u001b[37m\u001b[0m \u001b[1m0s\u001b[0m 27ms/step - binary_accuracy: 0.9673 - loss: 51.3998 - val_binary_accuracy: 0.9667 - val_loss: 48.7949\n",
      "Epoch 18/20\n",
      "\u001b[1m1/1\u001b[0m \u001b[32m━━━━━━━━━━━━━━━━━━━━\u001b[0m\u001b[37m\u001b[0m \u001b[1m0s\u001b[0m 26ms/step - binary_accuracy: 0.9673 - loss: 47.8594 - val_binary_accuracy: 0.9667 - val_loss: 45.1853\n",
      "Epoch 19/20\n",
      "\u001b[1m1/1\u001b[0m \u001b[32m━━━━━━━━━━━━━━━━━━━━\u001b[0m\u001b[37m\u001b[0m \u001b[1m0s\u001b[0m 26ms/step - binary_accuracy: 0.9673 - loss: 44.3190 - val_binary_accuracy: 0.9667 - val_loss: 41.5757\n",
      "Epoch 20/20\n",
      "\u001b[1m1/1\u001b[0m \u001b[32m━━━━━━━━━━━━━━━━━━━━\u001b[0m\u001b[37m\u001b[0m \u001b[1m0s\u001b[0m 26ms/step - binary_accuracy: 0.9673 - loss: 40.7786 - val_binary_accuracy: 0.9667 - val_loss: 37.9661\n"
     ]
    }
   ],
   "source": [
    "tf.random.set_seed(7)\n",
    "np.random.seed(7)\n",
    "\n",
    "hist= model.fit(x= X_train,\n",
    "                y= y_train_machine_failure,\n",
    "                validation_data= [X_val,y_val_machine_failure],\n",
    "                \n",
    "                batch_size=len(X_train),\n",
    "               \n",
    "                epochs=20,\n",
    "                verbose=1 \n",
    ")"
   ]
  },
  {
   "cell_type": "code",
   "execution_count": 173,
   "metadata": {},
   "outputs": [
    {
     "data": {
      "image/png": "[encoded data removed]",
      "text/plain": [
       "<Figure size 1600x400 with 2 Axes>"
      ]
     },
     "metadata": {},
     "output_type": "display_data"
    }
   ],
   "source": [
    "# grab history\n",
    "history = hist.history\n",
    "\n",
    "# plot loss for train and validation\n",
    "fig = plt.figure(figsize=(16, 4))\n",
    "ax = fig.add_subplot(1, 3, 1)\n",
    "plt.plot(history['loss'], lw=2, color='darkgoldenrod')\n",
    "plt.plot(history['val_loss'], lw=2, color='indianred')\n",
    "plt.legend(['Train', 'Validation'], fontsize=10)\n",
    "ax.set_xlabel('Epochs', size=10)\n",
    "ax.set_title('Loss');\n",
    "\n",
    "# plot accuracy for train and validation\n",
    "ax = fig.add_subplot(1, 3, 2)\n",
    "plt.plot(history['binary_accuracy'], lw=2, color='darkgoldenrod')\n",
    "plt.plot(history['val_binary_accuracy'], lw=2, color='indianred')\n",
    "plt.legend(['Train', 'Validation'], fontsize=10)\n",
    "ax.set_xlabel('Epochs', size=10)\n",
    "ax.set_title('Accuracy');\n"
   ]
  },
  {
   "cell_type": "code",
   "execution_count": 175,
   "metadata": {},
   "outputs": [
    {
     "name": "stdout",
     "output_type": "stream",
     "text": [
      "Trial 16 Complete [00h 00m 45s]\n",
      "val_loss: 0.12219572812318802\n",
      "\n",
      "Best val_loss So Far: 0.12219572812318802\n",
      "Total elapsed time: 00h 07m 26s\n",
      "<Sequential name=sequential, built=True>\n",
      " kernel is [[-0.19850713]\n",
      " [ 0.90631545]\n",
      " [ 0.32124367]\n",
      " [-0.01998969]\n",
      " [ 1.8108208 ]\n",
      " [ 1.0940855 ]]\n",
      "bias is [-0.00755899]\n",
      "final train loss is 4.107700347900391, final val loss is 0.12219572812318802\n",
      "3.9855046197772026\n",
      "============================================================================================================================================\n",
      "learning_rate: 0.001\n",
      "epochs: 400\n",
      "None\n"
     ]
    }
   ],
   "source": [
    "tf.random.set_seed(7)\n",
    "\n",
    "# YOUR CODE HERE\n",
    "\n",
    "class build_model_tuner(kt.HyperModel):\n",
    "    def build(self, hp):\n",
    "        lr = hp.Choice(\"learning_rate\", [.1, .01, .001, .02])\n",
    "        model = build_model(num_features=X_train.shape[1])\n",
    "\n",
    "        model.compile(\n",
    "            loss=tf.keras.losses.BinaryCrossentropy(),\n",
    "            optimizer=tf.keras.optimizers.SGD(learning_rate=lr),\n",
    "            metrics=[tf.keras.metrics.BinaryAccuracy()]\n",
    "        )\n",
    "        return model\n",
    "\n",
    "    def fit(self, hp, model, x, y, **kwargs):\n",
    "        epochs = hp.Choice(\"epochs\", [100, 200, 300, 400])\n",
    "        return model.fit(x, y, epochs=epochs,\n",
    "                         validation_data=(X_val, y_val_machine_failure),\n",
    "                         **kwargs)\n",
    "\n",
    "\n",
    "tuner = kt.BayesianOptimization(\n",
    "    build_model_tuner(),\n",
    "    objective=kt.Objective(\"val_loss\", \"min\"),\n",
    "    max_trials=50,\n",
    "    num_initial_points=20,\n",
    "    seed=7,\n",
    "    directory=\".\",\n",
    "    project_name=\"teamproject\"\n",
    ")\n",
    "\n",
    "tuner.search(X_train, y_train_machine_failure)\n",
    "#1.Learned Model Params + Bias\n",
    "best_model = tuner.get_best_models(1)[0]\n",
    "print(best_model)\n",
    "kernel, bias = best_model.layers[0].get_weights()\n",
    "print(f\" kernel is {kernel}\")\n",
    "print(f\"bias is {bias}\")\n",
    "\n",
    "#2. Loss at the final epoch of training and validation sets\n",
    "best_trial = tuner.oracle.get_best_trials(1)[0]\n",
    "final_train_evolution = best_trial.metrics.get_history(\"loss\")[-1].value[-1]\n",
    "final_val_evolution = best_trial.metrics.get_history(\"val_loss\")[-1].value[-1]\n",
    "print(f\"final train loss is {final_train_evolution}, final val loss is {final_val_evolution}\")\n",
    "\n",
    "# Difference of the last epoch loss training and val\n",
    "print(final_train_evolution - final_val_evolution)\n",
    "print('======='*20)\n",
    "#Personal look best params\n",
    "print(best_trial.display_hyperparameters())\n",
    "best_hp = tuner.get_best_hyperparameters(1)[0]\n",
    "lr = best_hp['learning_rate']\n",
    "epochs = best_hp['epochs']"
   ]
  },
  {
   "cell_type": "code",
   "execution_count": 193,
   "metadata": {},
   "outputs": [],
   "source": [
    "\n",
    "class build_model_tuner(kt.HyperModel):\n",
    "    def build(self, hp):\n",
    "        lr = hp.Choice(\"learning_rate\", [.001,.0001])\n",
    "        model = build_model(num_features=X_train.shape[1])  \n",
    "        model.compile(\n",
    "            loss=tf.keras.losses.BinaryCrossentropy(),\n",
    "            optimizer=tf.keras.optimizers.SGD(learning_rate=lr),\n",
    "            metrics=[tf.keras.metrics.BinaryAccuracy()]\n",
    "        )\n",
    "        return model\n",
    "\n",
    "    def fit(self, hp, model, x, y, **kwargs):\n",
    "        # one W&B run per trial, log hyperparams + metrics\n",
    "        run = wandb.init(\n",
    "            project=\"predictive-maintenance\",\n",
    "            name=f\"bayes-trial-{wandb.util.generate_id()}\",\n",
    "            config=hp.values,\n",
    "            reinit=True\n",
    "        )\n",
    "        try:\n",
    "            epochs = hp.Choice(\"epochs\", [100, 200, 300, 400,500])\n",
    "            return model.fit(\n",
    "                x, y,\n",
    "                epochs=epochs,\n",
    "                validation_data=(X_val, y_val_machine_failure),\n",
    "                callbacks=[WandbMetricsLogger()],\n",
    ")\n",
    "        finally:\n",
    "            wandb.finish()\n"
   ]
  },
  {
   "cell_type": "code",
   "execution_count": 194,
   "metadata": {},
   "outputs": [
    {
     "name": "stdout",
     "output_type": "stream",
     "text": [
      "Trial 10 Complete [00h 00m 46s]\n",
      "val_loss: 0.159734845161438\n",
      "\n",
      "Best val_loss So Far: 0.11567715555429459\n",
      "Total elapsed time: 00h 05m 49s\n"
     ]
    }
   ],
   "source": [
    "tuner = kt.BayesianOptimization(\n",
    "    build_model_tuner(),\n",
    "    objective=kt.Objective(\"val_loss\", \"min\"),\n",
    "    max_trials=50,\n",
    "    num_initial_points=20,\n",
    "    seed=7,\n",
    "    directory=\".\",\n",
    "    project_name=\"predictive-maintenance\"\n",
    ")\n",
    "\n",
    "tuner.search(X_train, y_train_machine_failure)\n"
   ]
  },
  {
   "cell_type": "code",
   "execution_count": null,
   "metadata": {},
   "outputs": [],
   "source": []
  }
 ],
 "metadata": {
  "kernelspec": {
   "display_name": "Python 3.12 (207-pm)",
   "language": "python",
   "name": "207-pm"
  },
  "language_info": {
   "codemirror_mode": {
    "name": "ipython",
    "version": 3
   },
   "file_extension": ".py",
   "mimetype": "text/x-python",
   "name": "python",
   "nbconvert_exporter": "python",
   "pygments_lexer": "ipython3",
   "version": "3.12.2"
  }
 },
 "nbformat": 4,
 "nbformat_minor": 2
}
