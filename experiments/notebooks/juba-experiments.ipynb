{
 "cells": [
  {
   "cell_type": "code",
   "execution_count": 41,
   "metadata": {},
   "outputs": [],
   "source": [
    "import wandb\n",
    "import sklearn\n",
    "import pandas as pd\n",
    "import numpy as np\n",
    "import seaborn as sns\n",
    "import matplotlib.pyplot as plt\n",
    "from pyprojroot import here\n",
    "from sklearn.linear_model import LogisticRegression, LinearRegression\n",
    "from sklearn.metrics import accuracy_score, recall_score, precision_score,f1_score, mean_squared_error\n",
    "from sklearn.multiclass import OneVsOneClassifier\n",
    "from sklearn.multioutput import MultiOutputClassifier"
   ]
  },
  {
   "cell_type": "code",
   "execution_count": 42,
   "metadata": {},
   "outputs": [
    {
     "name": "stdout",
     "output_type": "stream",
     "text": [
      "(7499, 6)\n",
      "(7499, 6)\n",
      "(1501, 6)\n",
      "(1501, 6)\n"
     ]
    }
   ],
   "source": [
    "X_train = pd.read_csv(here('data/processed/X_train_scaled.csv'))\n",
    "print(X_train.shape)\n",
    "y_train = pd.read_csv(here('data/processed/Y_train.csv'))\n",
    "print(y_train.shape)\n",
    "\n",
    "\n",
    "X_val = pd.read_csv(here('data/processed/X_val_scaled.csv'))\n",
    "print(X_val.shape)\n",
    "y_val = pd.read_csv(here('data/processed/Y_val.csv'))\n",
    "print(y_val.shape)"
   ]
  },
  {
   "cell_type": "code",
   "execution_count": 43,
   "metadata": {},
   "outputs": [
    {
     "name": "stderr",
     "output_type": "stream",
     "text": [
      "/Users/jubacochran/projects/student/207/w207-predictive-maintenance/.venv/lib/python3.12/site-packages/sklearn/linear_model/_logistic.py:1281: FutureWarning: 'multi_class' was deprecated in version 1.5 and will be removed in 1.8. Use OneVsRestClassifier(LogisticRegression(..)) instead. Leave it to its default value to avoid this warning.\n",
      "  warnings.warn(\n",
      "/Users/jubacochran/projects/student/207/w207-predictive-maintenance/.venv/lib/python3.12/site-packages/sklearn/linear_model/_logistic.py:1281: FutureWarning: 'multi_class' was deprecated in version 1.5 and will be removed in 1.8. Use OneVsRestClassifier(LogisticRegression(..)) instead. Leave it to its default value to avoid this warning.\n",
      "  warnings.warn(\n",
      "/Users/jubacochran/projects/student/207/w207-predictive-maintenance/.venv/lib/python3.12/site-packages/sklearn/linear_model/_logistic.py:1281: FutureWarning: 'multi_class' was deprecated in version 1.5 and will be removed in 1.8. Use OneVsRestClassifier(LogisticRegression(..)) instead. Leave it to its default value to avoid this warning.\n",
      "  warnings.warn(\n",
      "/Users/jubacochran/projects/student/207/w207-predictive-maintenance/.venv/lib/python3.12/site-packages/sklearn/linear_model/_logistic.py:1281: FutureWarning: 'multi_class' was deprecated in version 1.5 and will be removed in 1.8. Use OneVsRestClassifier(LogisticRegression(..)) instead. Leave it to its default value to avoid this warning.\n",
      "  warnings.warn(\n",
      "/Users/jubacochran/projects/student/207/w207-predictive-maintenance/.venv/lib/python3.12/site-packages/sklearn/linear_model/_logistic.py:1281: FutureWarning: 'multi_class' was deprecated in version 1.5 and will be removed in 1.8. Use OneVsRestClassifier(LogisticRegression(..)) instead. Leave it to its default value to avoid this warning.\n",
      "  warnings.warn(\n",
      "/Users/jubacochran/projects/student/207/w207-predictive-maintenance/.venv/lib/python3.12/site-packages/sklearn/linear_model/_logistic.py:1281: FutureWarning: 'multi_class' was deprecated in version 1.5 and will be removed in 1.8. Use OneVsRestClassifier(LogisticRegression(..)) instead. Leave it to its default value to avoid this warning.\n",
      "  warnings.warn(\n"
     ]
    }
   ],
   "source": [
    "#This is just a simple model no tuning\n",
    "ovr_lgr = LogisticRegression(multi_class='ovr', max_iter=1000, solver='lbfgs')\n",
    "multilabel = MultiOutputClassifier(ovr_lgr)\n",
    "multilabel.fit(X_train,y_train)\n",
    "\n",
    "preds = multilabel.predict(X_val)\n"
   ]
  },
  {
   "cell_type": "code",
   "execution_count": 44,
   "metadata": {},
   "outputs": [
    {
     "name": "stdout",
     "output_type": "stream",
     "text": [
      "0.9653564290473018\n"
     ]
    }
   ],
   "source": [
    "accuracy = accuracy_score(y_val,preds)\n",
    "print(accuracy)"
   ]
  },
  {
   "cell_type": "code",
   "execution_count": 45,
   "metadata": {},
   "outputs": [
    {
     "name": "stderr",
     "output_type": "stream",
     "text": [
      "\u001b[34m\u001b[1mwandb\u001b[0m: Currently logged in as: \u001b[33mjubacochran-berkeley\u001b[0m (\u001b[33mw207-predictive-maintenance\u001b[0m) to \u001b[32mhttps://api.wandb.ai\u001b[0m. Use \u001b[1m`wandb login --relogin`\u001b[0m to force relogin\n"
     ]
    },
    {
     "data": {
      "text/html": [],
      "text/plain": [
       "<IPython.core.display.HTML object>"
      ]
     },
     "metadata": {},
     "output_type": "display_data"
    },
    {
     "data": {
      "text/html": [
       "Tracking run with wandb version 0.21.4"
      ],
      "text/plain": [
       "<IPython.core.display.HTML object>"
      ]
     },
     "metadata": {},
     "output_type": "display_data"
    },
    {
     "data": {
      "text/html": [
       "Run data is saved locally in <code>/Users/jubacochran/projects/student/207/w207-predictive-maintenance/experiments/notebooks/wandb/run-20250916_230219-w7chtbfi</code>"
      ],
      "text/plain": [
       "<IPython.core.display.HTML object>"
      ]
     },
     "metadata": {},
     "output_type": "display_data"
    },
    {
     "data": {
      "text/html": [
       "Syncing run <strong><a href='https://wandb.ai/w207-predictive-maintenance/predictive-maintenance/runs/w7chtbfi' target=\"_blank\">simple_multilabel_LogisticRegression_baseline</a></strong> to <a href='https://wandb.ai/w207-predictive-maintenance/predictive-maintenance' target=\"_blank\">Weights & Biases</a> (<a href='https://wandb.me/developer-guide' target=\"_blank\">docs</a>)<br>"
      ],
      "text/plain": [
       "<IPython.core.display.HTML object>"
      ]
     },
     "metadata": {},
     "output_type": "display_data"
    },
    {
     "data": {
      "text/html": [
       " View project at <a href='https://wandb.ai/w207-predictive-maintenance/predictive-maintenance' target=\"_blank\">https://wandb.ai/w207-predictive-maintenance/predictive-maintenance</a>"
      ],
      "text/plain": [
       "<IPython.core.display.HTML object>"
      ]
     },
     "metadata": {},
     "output_type": "display_data"
    },
    {
     "data": {
      "text/html": [
       " View run at <a href='https://wandb.ai/w207-predictive-maintenance/predictive-maintenance/runs/w7chtbfi' target=\"_blank\">https://wandb.ai/w207-predictive-maintenance/predictive-maintenance/runs/w7chtbfi</a>"
      ],
      "text/plain": [
       "<IPython.core.display.HTML object>"
      ]
     },
     "metadata": {},
     "output_type": "display_data"
    },
    {
     "data": {
      "text/html": [
       "<button onClick=\"this.nextSibling.style.display='block';this.style.display='none';\">Display W&B run</button><iframe src='https://wandb.ai/w207-predictive-maintenance/predictive-maintenance/runs/w7chtbfi?jupyter=true' style='border:none;width:100%;height:420px;display:none;'></iframe>"
      ],
      "text/plain": [
       "<wandb.sdk.wandb_run.Run at 0x1399f9190>"
      ]
     },
     "execution_count": 45,
     "metadata": {},
     "output_type": "execute_result"
    }
   ],
   "source": [
    "#Creating a wanb Experiment\n",
    "wandb.init(project=\"predictive-maintenance\", name=\"simple_multilabel_LogisticRegression_baseline\")"
   ]
  },
  {
   "cell_type": "code",
   "execution_count": 46,
   "metadata": {},
   "outputs": [
    {
     "name": "stdout",
     "output_type": "stream",
     "text": [
      "Machine failure    0.969354\n",
      "TWF                0.995336\n",
      "HDF                0.992005\n",
      "PWF                0.998001\n",
      "OSF                0.993338\n",
      "RNF                0.998001\n",
      "dtype: float64\n"
     ]
    }
   ],
   "source": [
    "accuracy = accuracy_score(y_val,preds)\n",
    "mode_failures = (preds == y_val).mean(axis=0)\n",
    "print(mode_failures)\n",
    "# Not bad!!!!"
   ]
  },
  {
   "cell_type": "code",
   "execution_count": 47,
   "metadata": {},
   "outputs": [],
   "source": [
    "#logging to wandb\n",
    "\n",
    "wandb.log({\"Mode Failure Accuracy\": accuracy})\n",
    "for i, acc in enumerate(mode_failures):\n",
    "    label_name = y_val.columns[i] if isinstance(y_val, pd.DataFrame) else f\"label_{i}\"\n",
    "    wandb.log({f\"accuracy/{label_name}\": acc})"
   ]
  },
  {
   "cell_type": "code",
   "execution_count": 48,
   "metadata": {},
   "outputs": [],
   "source": [
    "#Defining confusion matrix\n",
    "\n",
    "micro_p = precision_score(y_val,preds, average='micro',zero_division=0)\n",
    "micro_r = recall_score(y_val,preds, average='micro',zero_division=0)\n",
    "micro_f1 = f1_score(y_val,preds, average='micro',zero_division=0) # since we have an uneven class distribution I\"m curious to see this metric"
   ]
  },
  {
   "cell_type": "code",
   "execution_count": 49,
   "metadata": {},
   "outputs": [],
   "source": [
    "wandb.log({\"micro/precision\": micro_p,\n",
    "           \"micro/recall\":micro_r,\n",
    "           \"micro/f1\": micro_f1\n",
    "           })"
   ]
  },
  {
   "cell_type": "code",
   "execution_count": 50,
   "metadata": {},
   "outputs": [],
   "source": [
    "#FP and FN\n",
    "y_true = y_val.values if isinstance(y_val, pd.DataFrame) else y_val\n",
    "tp = np.logical_and(preds == 1, y_true == 1).sum(axis=0)\n",
    "fp = np.logical_and(preds == 1, y_true == 0).sum(axis=0)\n",
    "fn = np.logical_and(preds == 0, y_true == 1).sum(axis=0)\n",
    "tn = np.logical_and(preds == 0, y_true == 0).sum(axis=0)\n",
    "\n",
    "for j in range(y_true.shape[1]):\n",
    "    label = y_val.columns[j] if isinstance(y_val, pd.DataFrame) else f\"label_{j}\"\n",
    "    wandb.log({\n",
    "        f\"{label}/TP\": int(tp[j]),\n",
    "        f\"{label}/FP\": int(fp[j]),\n",
    "        f\"{label}/FN\": int(fn[j]),\n",
    "        f\"{label}/TN\": int(tn[j])\n",
    "    })"
   ]
  },
  {
   "cell_type": "code",
   "execution_count": 51,
   "metadata": {},
   "outputs": [],
   "source": [
    "#Ovr Needs probabilites to interpret and model implementing here. \n",
    "probas_val = np.column_stack([est.predict_proba(X_val)[:, 1] for est in multilabel.estimators_])\n",
    "mse_overall = mean_squared_error(y_true, probas_val)\n",
    "wandb.log({\"mse/overall\": mse_overall})\n",
    "\n",
    "for j in range(y_true.shape[1]):\n",
    "    label = y_val.columns[j] if isinstance(y_val, pd.DataFrame) else f\"label_{j}\"\n",
    "    mse_j = mean_squared_error(y_true[:, j], probas_val[:, j])\n",
    "    wandb.log({f\"mse/{label}\": mse_j})\n"
   ]
  },
  {
   "cell_type": "code",
   "execution_count": 52,
   "metadata": {},
   "outputs": [
    {
     "data": {
      "text/html": [],
      "text/plain": [
       "<IPython.core.display.HTML object>"
      ]
     },
     "metadata": {},
     "output_type": "display_data"
    },
    {
     "data": {
      "text/html": [
       "<br>    <style><br>        .wandb-row {<br>            display: flex;<br>            flex-direction: row;<br>            flex-wrap: wrap;<br>            justify-content: flex-start;<br>            width: 100%;<br>        }<br>        .wandb-col {<br>            display: flex;<br>            flex-direction: column;<br>            flex-basis: 100%;<br>            flex: 1;<br>            padding: 10px;<br>        }<br>    </style><br><div class=\"wandb-row\"><div class=\"wandb-col\"><h3>Run history:</h3><br/><table class=\"wandb\"><tr><td>HDF/FN</td><td>▁</td></tr><tr><td>HDF/FP</td><td>▁</td></tr><tr><td>HDF/TN</td><td>▁</td></tr><tr><td>HDF/TP</td><td>▁</td></tr><tr><td>Machine failure/FN</td><td>▁</td></tr><tr><td>Machine failure/FP</td><td>▁</td></tr><tr><td>Machine failure/TN</td><td>▁</td></tr><tr><td>Machine failure/TP</td><td>▁</td></tr><tr><td>Mode Failure Accuracy</td><td>▁</td></tr><tr><td>OSF/FN</td><td>▁</td></tr><tr><td>+31</td><td>...</td></tr></table><br/></div><div class=\"wandb-col\"><h3>Run summary:</h3><br/><table class=\"wandb\"><tr><td>HDF/FN</td><td>11</td></tr><tr><td>HDF/FP</td><td>1</td></tr><tr><td>HDF/TN</td><td>1482</td></tr><tr><td>HDF/TP</td><td>7</td></tr><tr><td>Machine failure/FN</td><td>41</td></tr><tr><td>Machine failure/FP</td><td>5</td></tr><tr><td>Machine failure/TN</td><td>1446</td></tr><tr><td>Machine failure/TP</td><td>9</td></tr><tr><td>Mode Failure Accuracy</td><td>0.96536</td></tr><tr><td>OSF/FN</td><td>9</td></tr><tr><td>+31</td><td>...</td></tr></table><br/></div></div>"
      ],
      "text/plain": [
       "<IPython.core.display.HTML object>"
      ]
     },
     "metadata": {},
     "output_type": "display_data"
    },
    {
     "data": {
      "text/html": [
       " View run <strong style=\"color:#cdcd00\">simple_multilabel_LogisticRegression_baseline</strong> at: <a href='https://wandb.ai/w207-predictive-maintenance/predictive-maintenance/runs/w7chtbfi' target=\"_blank\">https://wandb.ai/w207-predictive-maintenance/predictive-maintenance/runs/w7chtbfi</a><br> View project at: <a href='https://wandb.ai/w207-predictive-maintenance/predictive-maintenance' target=\"_blank\">https://wandb.ai/w207-predictive-maintenance/predictive-maintenance</a><br>Synced 5 W&B file(s), 0 media file(s), 0 artifact file(s) and 0 other file(s)"
      ],
      "text/plain": [
       "<IPython.core.display.HTML object>"
      ]
     },
     "metadata": {},
     "output_type": "display_data"
    },
    {
     "data": {
      "text/html": [
       "Find logs at: <code>./wandb/run-20250916_230219-w7chtbfi/logs</code>"
      ],
      "text/plain": [
       "<IPython.core.display.HTML object>"
      ]
     },
     "metadata": {},
     "output_type": "display_data"
    }
   ],
   "source": [
    "#finish run\n",
    "wandb.finish()"
   ]
  }
 ],
 "metadata": {
  "kernelspec": {
   "display_name": "Python 3.12 (207-pm)",
   "language": "python",
   "name": "207-pm"
  },
  "language_info": {
   "codemirror_mode": {
    "name": "ipython",
    "version": 3
   },
   "file_extension": ".py",
   "mimetype": "text/x-python",
   "name": "python",
   "nbconvert_exporter": "python",
   "pygments_lexer": "ipython3",
   "version": "3.12.2"
  }
 },
 "nbformat": 4,
 "nbformat_minor": 2
}
