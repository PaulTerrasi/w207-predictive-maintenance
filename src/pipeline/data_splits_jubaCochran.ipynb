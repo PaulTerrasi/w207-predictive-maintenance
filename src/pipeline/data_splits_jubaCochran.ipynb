{
 "cells": [
  {
   "cell_type": "markdown",
   "metadata": {},
   "source": [
    "**This notebook will provie split logic for datasets. We'll use training, validation and test sets here. An assumption is made that we will use stochastic gradient descent thus observations will be randomized and saved accordingly.**"
   ]
  },
  {
   "cell_type": "code",
   "execution_count": 50,
   "metadata": {},
   "outputs": [],
   "source": [
    "import numpy as np\n",
    "import pandas as pd\n",
    "from sklearn.model_selection import train_test_split\n",
    "from pyprojroot import here\n",
    "import matplotlib.pyplot as plt\n"
   ]
  },
  {
   "cell_type": "code",
   "execution_count": 43,
   "metadata": {},
   "outputs": [
    {
     "name": "stdout",
     "output_type": "stream",
     "text": [
      "<class 'pandas.core.frame.DataFrame'>\n",
      "RangeIndex: 10000 entries, 0 to 9999\n",
      "Data columns (total 12 columns):\n",
      " #   Column               Non-Null Count  Dtype  \n",
      "---  ------               --------------  -----  \n",
      " 0   Air temperature      10000 non-null  float64\n",
      " 1   Process temperature  10000 non-null  float64\n",
      " 2   Rotational speed     10000 non-null  int64  \n",
      " 3   Torque               10000 non-null  float64\n",
      " 4   Tool wear            10000 non-null  int64  \n",
      " 5   quality_variation    10000 non-null  int64  \n",
      " 6   Machine failure      10000 non-null  int64  \n",
      " 7   TWF                  10000 non-null  int64  \n",
      " 8   HDF                  10000 non-null  int64  \n",
      " 9   PWF                  10000 non-null  int64  \n",
      " 10  OSF                  10000 non-null  int64  \n",
      " 11  RNF                  10000 non-null  int64  \n",
      "dtypes: float64(3), int64(9)\n",
      "memory usage: 937.6 KB\n",
      "None\n"
     ]
    }
   ],
   "source": [
    "#importing encoded unscaled data\n",
    "\n",
    "unscaled_processed_df = pd.read_csv(here('data/processed/encoded_unscaled_df.csv'))\n",
    "print(unscaled_processed_df.info())\n",
    "\n"
   ]
  },
  {
   "cell_type": "code",
   "execution_count": 44,
   "metadata": {},
   "outputs": [
    {
     "name": "stdout",
     "output_type": "stream",
     "text": [
      "<NumpyExtensionArray>\n",
      "[   0,    1,    2,    3,    4,    5,    6,    7,    8,    9,\n",
      " ...\n",
      " 9990, 9991, 9992, 9993, 9994, 9995, 9996, 9997, 9998, 9999]\n",
      "Length: 10000, dtype: int64\n",
      "      Air temperature  Process temperature  Rotational speed  Torque  \\\n",
      "1977            298.1                307.7              1633    30.7   \n",
      "3880            302.5                311.6              1595    29.5   \n",
      "52              298.8                309.0              1497    43.8   \n",
      "\n",
      "      Tool wear  quality_variation  Machine failure  TWF  HDF  PWF  OSF  RNF  \n",
      "1977        145                  1                0    0    0    0    0    0  \n",
      "3880         35                  0                0    0    0    0    0    0  \n",
      "52          147                  2                0    0    0    0    0    0  \n"
     ]
    }
   ],
   "source": [
    "np.random.seed(7)\n",
    "indices = unscaled_processed_df.index.array\n",
    "print(indices)\n",
    "#Shuffling because we'll use SGD for these training sets\n",
    "shuffled_indices = np.random.permutation(indices)\n",
    "unscaled_processed_df = unscaled_processed_df.reindex(labels=shuffled_indices,axis=0)\n",
    "print(unscaled_processed_df.head(3))"
   ]
  },
  {
   "cell_type": "code",
   "execution_count": 45,
   "metadata": {},
   "outputs": [
    {
     "name": "stdout",
     "output_type": "stream",
     "text": [
      "(10000, 6)\n",
      "(10000, 6)\n"
     ]
    }
   ],
   "source": [
    "X = unscaled_processed_df.loc[:,['quality_variation','Air temperature','Process temperature','Rotational speed','Torque','Tool wear']]\n",
    "Y = unscaled_processed_df.loc[:,['Machine failure','TWF','HDF','PWF','OSF','RNF']]\n",
    "print(X.shape)\n",
    "print(Y.shape)\n"
   ]
  },
  {
   "cell_type": "markdown",
   "metadata": {},
   "source": [
    "### Cheatsheet: two-step split params\n",
    "_First split_: `test_size1 = test`  \n",
    "_Second split (on remainder)_: `test_size2 = val / (1 - test)`\n",
    "\n",
    "| Final split (train/val/test) | `test_size1` (for test) | `test_size2` (for val) |\n",
    "|---|---:|---:|\n",
    "| 60/20/20 | 0.2000 | 0.2500 |\n",
    "| 70/15/15 | 0.1500 | 0.1765 |\n",
    "| 75/15/10 | 0.1000 | 0.1667 |\n",
    "| 80/10/10 | 0.1000 | 0.1111 |\n",
    "| 80/15/5  | 0.0500 | 0.1579 |\n",
    "| 65/20/15 | 0.1500 | 0.2353 |\n",
    "| 50/25/25 | 0.2500 | 0.3333 |\n"
   ]
  },
  {
   "cell_type": "code",
   "execution_count": 46,
   "metadata": {},
   "outputs": [
    {
     "name": "stdout",
     "output_type": "stream",
     "text": [
      "(7499, 6)\n",
      "(1501, 6)\n",
      "(1000, 6)\n",
      "y values are,(7499, 6),(1501, 6),(1000, 6)\n"
     ]
    }
   ],
   "source": [
    "X_train, X_test, Y_train, Y_test = train_test_split(X,Y,test_size=0.1000,random_state=1234)\n",
    "\n",
    "X_train, X_val, Y_train, Y_val =  train_test_split(X_train,Y_train, test_size=0.1667, random_state=1234)\n",
    "\n",
    "print(X_train.shape)\n",
    "print(X_val.shape)\n",
    "print(X_test.shape)\n",
    "print(f'y values are,{Y_train.shape},{Y_val.shape},{Y_test.shape}')"
   ]
  },
  {
   "cell_type": "code",
   "execution_count": 47,
   "metadata": {},
   "outputs": [],
   "source": [
    "#Saving Training, Validation, Test splits\n",
    "X_train.to_csv(here('data/processed/X_train.csv'), index=False)\n",
    "Y_train.to_csv(here('data/processed/Y_train.csv'), index=False)\n",
    "\n",
    "X_val.to_csv(here('data/processed/X_val.csv'), index=False)\n",
    "Y_val.to_csv(here('data/processed/Y_val.csv'), index=False)\n",
    "\n",
    "X_test.to_csv(here('data/processed/X_test.csv'), index=False)\n",
    "Y_test.to_csv(here('data/processed/Y_test.csv'), index=False)\n"
   ]
  },
  {
   "cell_type": "code",
   "execution_count": 48,
   "metadata": {},
   "outputs": [
    {
     "name": "stdout",
     "output_type": "stream",
     "text": [
      "quality_variation      6.348362e-17\n",
      "Air temperature        1.910999e-14\n",
      "Process temperature   -6.395856e-15\n",
      "Rotational speed       1.444963e-16\n",
      "Torque                -2.558295e-16\n",
      "Tool wear             -8.527650e-17\n",
      "dtype: float64\n",
      "-----------------\n",
      "quality_variation      1.0\n",
      "Air temperature        1.0\n",
      "Process temperature    1.0\n",
      "Rotational speed       1.0\n",
      "Torque                 1.0\n",
      "Tool wear              1.0\n",
      "dtype: float64\n"
     ]
    }
   ],
   "source": [
    "X_train_scaled = (X_train - X_train.mean())/X_train.std()\n",
    "\n",
    "print(X_train_scaled.mean())\n",
    "print('-----------------')\n",
    "print(X_train_scaled.std())\n"
   ]
  },
  {
   "cell_type": "code",
   "execution_count": 53,
   "metadata": {},
   "outputs": [
    {
     "data": {
      "text/plain": [
       "Text(0.5, 0, 'X values')"
      ]
     },
     "execution_count": 53,
     "metadata": {},
     "output_type": "execute_result"
    },
    {
     "data": {
      "image/png": "[encoded data removed]",
      "text/plain": [
       "<Figure size 640x480 with 1 Axes>"
      ]
     },
     "metadata": {},
     "output_type": "display_data"
    }
   ],
   "source": [
    "#view of scaled training data\n",
    "plt.hist(X_train_scaled);\n",
    "plt.title('scaled xtrain data')\n",
    "plt.xlabel('X values')"
   ]
  },
  {
   "cell_type": "code",
   "execution_count": 38,
   "metadata": {},
   "outputs": [
    {
     "name": "stdout",
     "output_type": "stream",
     "text": [
      "quality_variation      0.030263\n",
      "Air temperature        0.004922\n",
      "Process temperature   -0.013612\n",
      "Rotational speed       0.014342\n",
      "Torque                -0.029442\n",
      "Tool wear             -0.018977\n",
      "dtype: float64\n",
      "-----------------\n",
      "quality_variation      1.029930\n",
      "Air temperature        0.983962\n",
      "Process temperature    0.985786\n",
      "Rotational speed       0.948499\n",
      "Torque                 0.984961\n",
      "Tool wear              0.980861\n",
      "dtype: float64\n"
     ]
    }
   ],
   "source": [
    "X_val_scaled = (X_val - X_train.mean())/X_train.std()\n",
    "\n",
    "print(X_val_scaled.mean())\n",
    "print('-----------------')\n",
    "print(X_val_scaled.std())"
   ]
  },
  {
   "cell_type": "code",
   "execution_count": 39,
   "metadata": {},
   "outputs": [
    {
     "name": "stdout",
     "output_type": "stream",
     "text": [
      "quality_variation     -0.012052\n",
      "Air temperature        0.002965\n",
      "Process temperature    0.021864\n",
      "Rotational speed       0.026041\n",
      "Torque                -0.008778\n",
      "Tool wear              0.016079\n",
      "dtype: float64\n",
      "-----------------\n",
      "quality_variation      0.984686\n",
      "Air temperature        0.999627\n",
      "Process temperature    1.018053\n",
      "Rotational speed       1.000754\n",
      "Torque                 1.020848\n",
      "Tool wear              1.023803\n",
      "dtype: float64\n"
     ]
    }
   ],
   "source": [
    "X_test_scaled = (X_test - X_train.mean())/X_train.std()\n",
    "\n",
    "print(X_test_scaled.mean())\n",
    "print('-----------------')\n",
    "print(X_test_scaled.std())"
   ]
  },
  {
   "cell_type": "code",
   "execution_count": 40,
   "metadata": {},
   "outputs": [],
   "source": [
    "#Saving Scaled Training, Validation, Test splits\n",
    "X_train_scaled.to_csv(here('data/processed/X_train_scaled.csv'), index=False)\n",
    "Y_train.to_csv(here('data/processed/Y_train.csv'), index=False)\n",
    "\n",
    "X_val_scaled.to_csv(here('data/processed/X_val_scaled.csv'), index=False)\n",
    "Y_val.to_csv(here('data/processed/Y_val.csv'), index=False)\n",
    "\n",
    "X_test_scaled.to_csv(here('data/processed/X_test_scaled.csv'), index=False)\n",
    "Y_test.to_csv(here('data/processed/Y_test.csv'), index=False)"
   ]
  },
  {
   "cell_type": "markdown",
   "metadata": {},
   "source": [
    "Size Before Preprocessing: One dataset, (10000, 12)\n",
    "| Split         | X Shape   | Y Shape   |\n",
    "|---------------|-----------|-----------|\n",
    "| Training      | (7499, 6) | (7499, 6) |\n",
    "| Validation    | (1501, 6) | (1501, 6) |\n",
    "| Test          | (1000, 6) | (1000, 6) |"
   ]
  }
 ],
 "metadata": {
  "kernelspec": {
   "display_name": "Python 3.12 (207-pm)",
   "language": "python",
   "name": "207-pm"
  },
  "language_info": {
   "codemirror_mode": {
    "name": "ipython",
    "version": 3
   },
   "file_extension": ".py",
   "mimetype": "text/x-python",
   "name": "python",
   "nbconvert_exporter": "python",
   "pygments_lexer": "ipython3",
   "version": "3.12.2"
  }
 },
 "nbformat": 4,
 "nbformat_minor": 2
}
